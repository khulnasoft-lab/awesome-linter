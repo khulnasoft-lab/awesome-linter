{
  "cells": [
    {
      "cell_type": "code",
      "execution_count": null,
      "metadata": {
        "id": "hHETjoFLGZmM"
      },
      "outputs": [],
      "source": [
        "a=1;b=2\n",
        "c=a+b\n",
        "BROKEN_VAR=BROKEN_VAR\n",
        "print(c)"
      ]
    }
  ],
  "metadata": {
    "colab": {
      "provenance": []
    },
    "kernelspec": {
      "display_name": "Python 3",
      "name": "python3"
    },
    "language_info": {
      "name": "python"
    }
  },
  "nbformat": 4,
  "nbformat_minor": 0
}
