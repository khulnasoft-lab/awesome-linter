{
  "nbformat": 4,
  "nbformat_minor": 0,
  "metadata": {
    "colab": {
      "provenance": []
    },
    "kernelspec": {
      "name": "python3",
      "display_name": "Python 3"
    },
    "language_info": {
      "name": "python"
    }
  },
  "cells": [
    {
      "cell_type": "code",
      "execution_count": null,
      "metadata": {
        "id": "hHETjoFLGZmM"
      },
      "outputs": [],
      "source": [
        "a=1;b=2\n",
        "c=a+b\n",
        "BROKEN_VAR=BROKEN_VAR\n",
        "print(c)"
      ]
    }
  ]
}
