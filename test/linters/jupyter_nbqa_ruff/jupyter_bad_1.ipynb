{
  "cells": [
    {
      "cell_type": "code",
      "execution_count": null,
      "metadata": {
        "id": "hHETjoFLGZmM"
      },
      "outputs": [],
      "source": [
        "import pandas\n",
        "import numpy as np\n",
        "\n",
        "c = 1 + 2\n",
        "print(c)"
      ]
    }
  ],
  "metadata": {
    "colab": {
      "provenance": []
    },
    "kernelspec": {
      "display_name": "Python 3",
      "name": "python3"
    },
    "language_info": {
      "name": "python"
    }
  },
  "nbformat": 4,
  "nbformat_minor": 0
}
