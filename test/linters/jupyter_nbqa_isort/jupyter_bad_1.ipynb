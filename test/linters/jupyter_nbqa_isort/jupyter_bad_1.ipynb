{
  "cells": [
    {
      "cell_type": "code",
      "execution_count": null,
      "metadata": {
        "id": "hHETjoFLGZmM"
      },
      "outputs": [],
      "source": [
        "import json\n",
        "from os import getenv, path\n",
        "from pprint import pprint\n",
        "import sys\n",
        "\n",
        "\n",
        "a=1;b=2\n",
        "c=a+b\n",
        "BROKEN_VAR=BROKEN_VAR\n",
        "print(c)"
      ]
    }
  ],
  "metadata": {
    "colab": {
      "provenance": []
    },
    "kernelspec": {
      "display_name": "Python 3",
      "name": "python3"
    },
    "language_info": {
      "name": "python"
    }
  },
  "nbformat": 4,
  "nbformat_minor": 0
}
