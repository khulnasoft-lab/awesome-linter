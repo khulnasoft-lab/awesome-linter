{
 "cells": [
  {
   "cell_type": "code",
   "execution_count": null,
   "metadata": {
    "id": "hHETjoFLGZmM"
   },
   "outputs": [],
   "source": [
    "\"\"\"Test Python file for Pylint.\"\"\"\n",
    "\n",
    "A = 1\n",
    "B = 2\n",
    "C = A + B\n",
    "print(C)"
   ]
  }
 ],
 "metadata": {
  "colab": {
   "provenance": []
  },
  "kernelspec": {
   "display_name": "Python 3",
   "name": "python3"
  },
  "language_info": {
   "name": "python"
  }
 },
 "nbformat": 4,
 "nbformat_minor": 0
}
